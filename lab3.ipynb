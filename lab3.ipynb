{
 "cells": [
  {
   "cell_type": "code",
   "execution_count": 211,
   "metadata": {},
   "outputs": [],
   "source": [
    "import numpy as np"
   ]
  },
  {
   "cell_type": "code",
   "execution_count": 212,
   "metadata": {},
   "outputs": [
    {
     "name": "stdout",
     "output_type": "stream",
     "text": [
      "Matrix A\n",
      "[[  6.81    0.88    1.19    1.165  -0.51 ]\n",
      " [  1.32    3.61    1.3    -1.63   -1.98 ]\n",
      " [  0.75   -2.46    5.99    2.1    -1.517]\n",
      " [  1.315   0.16    2.1     5.55   22.   ]\n",
      " [  0.99    1.32    1.783 -11.     16.   ]]\n"
     ]
    }
   ],
   "source": [
    "A = np.loadtxt(\"A.txt\", delimiter=' ', dtype=np.float)\n",
    "B = np.loadtxt(\"B.txt\", delimiter=' ', dtype=np.float)\n",
    "epsilon = 10 **(-5)\n",
    "print(\"Matrix A\")\n",
    "print(A)"
   ]
  },
  {
   "cell_type": "code",
   "execution_count": 213,
   "metadata": {},
   "outputs": [],
   "source": [
    "def chek(A):\n",
    "    suma = 0 \n",
    "    count = 0 \n",
    "    for i in range(A.shape[0]):\n",
    "        for j in range(A.shape[1]):\n",
    "            if j!=i:\n",
    "                suma +=A[i][j]\n",
    "        if A[i][i] > suma: \n",
    "            count +=1\n",
    "    if count == A.shape[0]:\n",
    "        print(\"We can use this method\")\n",
    "    else:\n",
    "        print(\"We can't use this method, becouse we have bad matrix\")"
   ]
  },
  {
   "cell_type": "code",
   "execution_count": 214,
   "metadata": {},
   "outputs": [
    {
     "name": "stdout",
     "output_type": "stream",
     "text": [
      "We can't use this method, becouse we have bad matrix\n"
     ]
    }
   ],
   "source": [
    "chek(A)"
   ]
  },
  {
   "cell_type": "code",
   "execution_count": 215,
   "metadata": {},
   "outputs": [],
   "source": [
    "A = np.array([[10., -1., 2., 0.],\n",
    "              [-1., 11., -1., 3.],\n",
    "              [2., -1., 10., -1.],\n",
    "              [0.0, 3., -1., 8.]])\n",
    "B = np.array([6., 25., -11., 15.])"
   ]
  },
  {
   "cell_type": "code",
   "execution_count": 219,
   "metadata": {},
   "outputs": [],
   "source": [
    "def Jacobi(A,B,epsilon):\n",
    "    x = np.zeros_like(B)\n",
    "    error = np.dot(A, x) - B\n",
    "    while error.all() > epsilon:\n",
    "        print(\"Current solution:\",x)\n",
    "        print(\"mismatch vector\",np.dot(A, x) - B)\n",
    "        x_new = np.zeros_like(x)\n",
    "        for i in range(A.shape[0]):\n",
    "            s1 = np.dot(A[i, :i], x[:i])# сума до j\n",
    "            s2 = np.dot(A[i, i + 1:], x[i + 1:])#сума після j\n",
    "            x_new[i] = (B[i] - s1 - s2) / A[i, i]\n",
    "        if np.allclose(x, x_new, atol=1e-10, rtol=0.):\n",
    "            break\n",
    "        x = x_new\n",
    "        error = np.dot(A, x) - B\n",
    "        print(\"Norm mistach vektor\",np.linalg.norm(error))\n",
    "    return x"
   ]
  },
  {
   "cell_type": "code",
   "execution_count": 220,
   "metadata": {},
   "outputs": [
    {
     "name": "stdout",
     "output_type": "stream",
     "text": [
      "Current solution: [0. 0. 0. 0.]\n",
      "mismatch vector [ -6. -25.  11. -15.]\n",
      "Norm mistach vektor 11.353748880275788\n",
      "Current solution: [ 0.6         2.27272727 -1.1         1.875     ]\n",
      "mismatch vector [-4.47272727  6.125      -2.94772727  7.91818182]\n",
      "Norm mistach vektor 4.9909552800479\n",
      "Current solution: [ 1.04727273  1.71590909 -0.80522727  0.88522727]\n",
      "mismatch vector [ 1.14636364 -3.71136364  2.44113636 -1.96522727]\n",
      "Norm mistach vektor 2.0298776446900537\n",
      "Current solution: [ 0.93263636  2.05330579 -1.04934091  1.13088068]\n",
      "mismatch vector [-0.82562397  1.09571023 -0.81232283  1.25630372]\n",
      "Norm mistach vektor 0.8911406454744754\n",
      "Current solution: [ 1.01519876  1.95369576 -0.96810863  0.97384272]\n",
      "mismatch vector [ 0.26207459 -0.63490857  0.42177278 -0.38006235]\n",
      "Norm mistach vektor 0.3686282891573499\n",
      "Current solution: [ 0.9889913   2.01141473 -1.0102859   1.02135051]\n",
      "mismatch vector [-0.14207352  0.21090812 -0.15764167  0.21533416]\n",
      "Norm mistach vektor 0.1604730787325685\n",
      "Current solution: [ 1.00319865  1.99224126 -0.99452174  0.99443374]\n",
      "mismatch vector [ 0.0507018  -0.11072183  0.07450494 -0.07328456]\n",
      "Norm mistach vektor 0.06710618527173733\n",
      "Current solution: [ 0.99812847  2.00230688 -1.00197223  1.00359431]\n",
      "mismatch vector [-0.02496661  0.04000238 -0.02936655  0.03764736]\n",
      "Norm mistach vektor 0.0290215329361002\n",
      "Current solution: [ 1.00062513  1.9986703  -0.99903558  0.99888839]\n",
      "mismatch vector [ 0.00950989 -0.01955107  0.01333582 -0.0138464 ]\n",
      "Norm mistach vektor 0.012221298598745501\n",
      "Current solution: [ 0.99967415  2.00044767 -1.00036916  1.00061919]\n",
      "mismatch vector [-0.00444453  0.00747697 -0.00541015  0.00666569]\n",
      "Norm mistach vektor 0.005260793263324812\n",
      "Current solution: [ 1.0001186   1.99976795 -0.99982814  0.99978598]\n",
      "mismatch vector [ 0.00176175 -0.0034851   0.00240184 -0.00258019]\n",
      "Norm mistach vektor 0.0022252968100409222\n",
      "Current solution: [ 0.99994242  2.00008477 -1.00006833  1.0001085 ]\n",
      "mismatch vector [-0.0007972   0.00138393 -0.0009917   0.00119067]\n",
      "Norm mistach vektor 0.0009548663024433141\n",
      "Current solution: [ 1.00002214  1.99995896 -0.99996916  0.99995967]\n",
      "mismatch vector [ 0.00032415 -0.00062539  0.00043408 -0.00047661]\n",
      "Norm mistach vektor 0.0004050621457864504\n",
      "Current solution: [ 0.99998973  2.00001582 -1.00001257  1.00001924]\n",
      "mismatch vector [-0.00014367  0.00025455 -0.00018126  0.00021397]\n",
      "Norm mistach vektor 0.000173441746592034\n",
      "Current solution: [ 1.00000409  1.99999268 -0.99999444  0.9999925 ]\n",
      "mismatch vector [ 5.93929448e-05 -1.12731537e-04  7.86212582e-05 -8.75489339e-05]\n",
      "Norm mistach vektor 7.37109925737548e-05\n",
      "Current solution: [ 0.99999816  2.00000292 -1.0000023   1.00000344]\n",
      "mismatch vector [-2.59725732e-05  4.66322705e-05 -3.30705273e-05  3.86070905e-05]\n",
      "Norm mistach vektor 3.151759602769893e-05\n",
      "Current solution: [ 1.00000075  1.99999868 -0.99999899  0.99999862]\n",
      "mismatch vector [ 1.08534028e-05 -2.03819690e-05  1.42596983e-05 -1.60249447e-05]\n",
      "Norm mistach vektor 1.341060565568703e-05\n",
      "Current solution: [ 0.99999967  2.00000054 -1.00000042  1.00000062]\n",
      "mismatch vector [-4.70484593e-06  8.52066437e-06 -6.02670491e-06  6.98468865e-06]\n",
      "Norm mistach vektor 5.728839703959289e-06\n",
      "Current solution: [ 1.00000014  1.99999976 -0.99999982  0.99999975]\n",
      "mismatch vector [ 1.97994683e-06 -3.69241333e-06  2.58866112e-06 -2.92648805e-06]\n",
      "Norm mistach vektor 2.4394781100796356e-06\n",
      "Current solution: [ 0.99999994  2.0000001  -1.00000008  1.00000011]\n",
      "mismatch vector [-8.53406163e-07  1.55429381e-06 -1.09747431e-06  1.26588793e-06]\n",
      "Norm mistach vektor 1.041480063874406e-06\n",
      "Current solution: [ 1.00000003  1.99999996 -0.99999997  0.99999995]\n",
      "mismatch vector [ 3.60794298e-07 -6.69796020e-07  4.70216662e-07 -5.33645744e-07]\n",
      "Norm mistach vektor 4.437096039364264e-07\n",
      "Current solution: [ 0.99999999  2.00000002 -1.00000001  1.00000002]\n",
      "mismatch vector [-1.54933880e-07  2.83218252e-07 -1.99755126e-07  2.29693310e-07]\n",
      "Norm mistach vektor 1.8935630948228418e-07\n",
      "Current solution: [ 1.          1.99999999 -0.99999999  0.99999999]\n",
      "mismatch vector [ 6.56981385e-08 -1.21603893e-07  8.54455546e-08 -9.72168550e-08]\n",
      "Norm mistach vektor 8.069920297956822e-08\n",
      "Current solution: [ 1.  2. -1.  1.]\n",
      "mismatch vector [-2.81440107e-08  5.15706908e-08 -3.63466359e-08  4.17092547e-08]\n",
      "Norm mistach vektor 3.442999899981948e-08\n",
      "Current solution: [ 1.  2. -1.  1.]\n",
      "mismatch vector [ 1.19575727e-08 -2.20900382e-08  1.55307038e-08 -1.76993993e-08]\n",
      "Norm mistach vektor 1.4676371462233424e-08\n",
      "Current solution: [ 1.  2. -1.  1.]\n",
      "mismatch vector [-5.11432674e-09  9.38610256e-09 -6.61212596e-09  7.57762564e-09]\n",
      "Norm mistach vektor 6.260548068309976e-09\n",
      "Current solution: [ 1.  2. -1.  1.]\n",
      "mismatch vector [ 2.17570673e-09 -4.01425382e-09  2.82335044e-09 -3.22105898e-09]\n",
      "Norm mistach vektor 2.669033251072082e-09\n",
      "Current solution: [ 1.  2. -1.  1.]\n",
      "mismatch vector [-9.29603061e-10  1.70780012e-09 -1.20270727e-09  1.37713130e-09]\n",
      "Norm mistach vektor 1.1384118410439428e-09\n",
      "Current solution: [ 1.  2. -1.  1.]\n",
      "mismatch vector [ 3.95795396e-10 -7.29656335e-10  5.13315612e-10 -5.86034332e-10]\n"
     ]
    },
    {
     "data": {
      "text/plain": [
       "array([ 1.,  2., -1.,  1.])"
      ]
     },
     "execution_count": 220,
     "metadata": {},
     "output_type": "execute_result"
    }
   ],
   "source": [
    "Jacobi(A,B,epsilon)"
   ]
  },
  {
   "cell_type": "code",
   "execution_count": null,
   "metadata": {},
   "outputs": [],
   "source": []
  }
 ],
 "metadata": {
  "kernelspec": {
   "display_name": "Python 3",
   "language": "python",
   "name": "python3"
  },
  "language_info": {
   "codemirror_mode": {
    "name": "ipython",
    "version": 3
   },
   "file_extension": ".py",
   "mimetype": "text/x-python",
   "name": "python",
   "nbconvert_exporter": "python",
   "pygments_lexer": "ipython3",
   "version": "3.6.5"
  }
 },
 "nbformat": 4,
 "nbformat_minor": 2
}
