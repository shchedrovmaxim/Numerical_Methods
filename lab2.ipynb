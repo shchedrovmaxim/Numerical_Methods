{
 "cells": [
  {
   "cell_type": "code",
   "execution_count": 1,
   "metadata": {},
   "outputs": [],
   "source": [
    "import numpy as np"
   ]
  },
  {
   "cell_type": "code",
   "execution_count": 119,
   "metadata": {},
   "outputs": [
    {
     "name": "stdout",
     "output_type": "stream",
     "text": [
      "Matrix A\n",
      "[[  6.81    0.88    1.19    1.165  -0.51 ]\n",
      " [  1.32    3.61    1.3    -1.63   -1.98 ]\n",
      " [  0.75   -2.46    5.99    2.1    -1.517]\n",
      " [  1.315   0.16    2.1     5.55   22.   ]\n",
      " [  0.99    1.32    1.783 -11.     16.   ]]\n"
     ]
    }
   ],
   "source": [
    "A = np.loadtxt(\"A.txt\", delimiter=' ', dtype=np.float)\n",
    "B = np.loadtxt(\"B.txt\", delimiter=' ', dtype=np.float)\n",
    "epsilon = 10 **(-5)\n",
    "U,L = np.zeros(A.shape), np.zeros(A.shape)\n",
    "print(\"Matrix A\")\n",
    "print(A)"
   ]
  },
  {
   "cell_type": "code",
   "execution_count": 126,
   "metadata": {},
   "outputs": [],
   "source": [
    "def LU(A):\n",
    "    if np.max(np.abs(A)==0):\n",
    "        print(\"System don't have roots\")\n",
    "        return None\n",
    "    for j in range(0,A.shape[1]):\n",
    "        U[0][j] = A[0][j]\n",
    "        L[j][0] = A[j][0] / U[0][0]\n",
    "    for i in range(0,A.shape[0]):\n",
    "        for j in range(i,A.shape[1]):\n",
    "            sumL,sumU = 0,0\n",
    "            for k in range(0,i):\n",
    "                sumU += L[i][k]*U[k][j]\n",
    "                sumL += L[j][k]*U[k][i]\n",
    "            U[i][j] = A[i][j] - sumU\n",
    "            L[j][i] = (1/U[i][i]) * (A[j][i] - sumL)\n",
    "    return L,U"
   ]
  },
  {
   "cell_type": "code",
   "execution_count": 127,
   "metadata": {},
   "outputs": [
    {
     "name": "stdout",
     "output_type": "stream",
     "text": [
      "Matrix L\n",
      "[[ 1.          0.          0.          0.          0.        ]\n",
      " [ 0.1938326   1.          0.          0.          0.        ]\n",
      " [ 0.11013216 -0.74341338  1.          0.          0.        ]\n",
      " [ 0.19309838 -0.00288611  0.28153385  1.          0.        ]\n",
      " [ 0.14537445  0.34658982  0.18626394 -2.06412461  1.        ]]\n",
      "Matrix U\n",
      "[[ 6.81        0.88        1.19        1.165      -0.51      ]\n",
      " [ 0.          3.43942731  1.06933921 -1.85581498 -1.88114537]\n",
      " [ 0.          0.          6.65390381  0.59205834 -2.85930125]\n",
      " [ 0.          0.          0.          5.15299982 22.89804107]\n",
      " [ 0.          0.          0.          0.         64.5231217 ]]\n"
     ]
    }
   ],
   "source": [
    "L,U = LU(A)\n",
    "print(\"Matrix L\")\n",
    "print(L)\n",
    "print(\"Matrix U\")\n",
    "print(U)"
   ]
  },
  {
   "cell_type": "code",
   "execution_count": 116,
   "metadata": {},
   "outputs": [],
   "source": [
    "def revers_matrix(L,U):\n",
    "    alpha = np.zeros(L.shape)\n",
    "    beta = np.zeros(U.shape)\n",
    "    for i in range(0,alpha.shape[0]):\n",
    "        alpha[i][i] = 1 / U[i][i]\n",
    "        beta[i][i] = 1 / L[i][i]\n",
    "    for i in range(0,L.shape[0]):\n",
    "        for j in range(0,L.shape[1]):\n",
    "            if i > j:\n",
    "                alpha[i][j] = 0\n",
    "                sumL = 0\n",
    "                for k in range(0,i):\n",
    "                    sumL += beta[k][j] * L[i][k]\n",
    "                beta[i][j] = (-1/L[i][i])*sumL\n",
    "            elif i < j:\n",
    "                beta[i][j] = 0\n",
    "                sumU = 0\n",
    "                for k in range(0,j):\n",
    "                    sumU += alpha[i][k] * U[k][j]\n",
    "                alpha[i][j] = (-1/U[j][j]) * sumU\n",
    "    return beta,alpha"
   ]
  },
  {
   "cell_type": "code",
   "execution_count": 117,
   "metadata": {},
   "outputs": [
    {
     "name": "stdout",
     "output_type": "stream",
     "text": [
      "Reverse matrix L\n",
      "[[ 1.          0.          0.          0.          0.        ]\n",
      " [-0.1938326   1.          0.          0.          0.        ]\n",
      " [-0.25422991  0.74341338  1.          0.          0.        ]\n",
      " [-0.12208348 -0.20640992 -0.28153385  1.          0.        ]\n",
      " [-0.2828357  -0.91111672 -0.76738489  2.06412461  1.        ]]\n",
      "Reverse matrix U\n",
      "[[ 0.14684288 -0.03757071 -0.0202238  -0.0444057   0.01492785]\n",
      " [ 0.          0.29074608 -0.04672538  0.11007861 -0.03265885]\n",
      " [ 0.          0.          0.15028772 -0.01726744  0.01278779]\n",
      " [ 0.          0.          0.          0.19406172 -0.06886885]\n",
      " [ 0.          0.          0.          0.          0.01549832]]\n"
     ]
    }
   ],
   "source": [
    "L_reverse,U_reverse = revers_matrix(L,U)\n",
    "print(\"Reverse matrix L\")\n",
    "print(L_reverse)\n",
    "print(\"Reverse matrix U\")\n",
    "print(U_reverse)"
   ]
  },
  {
   "cell_type": "code",
   "execution_count": 120,
   "metadata": {},
   "outputs": [],
   "source": [
    "X = np.dot(np.dot(U_reverse,L_reverse),B)"
   ]
  },
  {
   "cell_type": "code",
   "execution_count": 121,
   "metadata": {},
   "outputs": [],
   "source": [
    "r = np.abs(B-np.dot(A,X)) < epsilon"
   ]
  },
  {
   "cell_type": "code",
   "execution_count": 125,
   "metadata": {},
   "outputs": [
    {
     "name": "stdout",
     "output_type": "stream",
     "text": [
      "Our mismatch vector\n",
      "[ True  True  True  True  True]\n"
     ]
    }
   ],
   "source": [
    "print(\"Our mismatch vector\")\n",
    "print(r)"
   ]
  },
  {
   "cell_type": "code",
   "execution_count": 136,
   "metadata": {
    "scrolled": true
   },
   "outputs": [
    {
     "name": "stdout",
     "output_type": "stream",
     "text": [
      "Reverse A matrix\n",
      "[[ 0.16046587 -0.05704059 -0.01917749 -0.01359276  0.01492785]\n",
      " [-0.04867877  0.26304451 -0.05265433  0.04266668 -0.03265885]\n",
      " [-0.03971641  0.1036389   0.14533592  0.00912816  0.01278779]\n",
      " [-0.00421316  0.0226913  -0.00178603  0.05190783 -0.06886885]\n",
      " [-0.00438348 -0.01412078 -0.01189318  0.03199046  0.01549832]]\n"
     ]
    }
   ],
   "source": [
    "print(\"Reverse A matrix\")\n",
    "print(np.dot(U_reverse,L_reverse))"
   ]
  },
  {
   "cell_type": "code",
   "execution_count": 134,
   "metadata": {},
   "outputs": [
    {
     "data": {
      "text/plain": [
       "array([ 0.45729966,  0.09363033, -0.76863834, -0.22166453, -0.14963415])"
      ]
     },
     "execution_count": 134,
     "metadata": {},
     "output_type": "execute_result"
    }
   ],
   "source": [
    "X  "
   ]
  },
  {
   "cell_type": "code",
   "execution_count": 135,
   "metadata": {},
   "outputs": [
    {
     "data": {
      "text/plain": [
       "array([ 0.45729966,  0.09363033, -0.76863834, -0.22166453, -0.14963415])"
      ]
     },
     "execution_count": 135,
     "metadata": {},
     "output_type": "execute_result"
    }
   ],
   "source": [
    "np.linalg.solve(A,B)"
   ]
  },
  {
   "cell_type": "code",
   "execution_count": 146,
   "metadata": {},
   "outputs": [
    {
     "name": "stdout",
     "output_type": "stream",
     "text": [
      "Determinate A equals\n",
      "-0.0010916071900617223\n"
     ]
    }
   ],
   "source": [
    "detA = 1\n",
    "for i in X:\n",
    "    detA *= i\n",
    "print(\"Determinate A equals\")\n",
    "print(detA)\n"
   ]
  },
  {
   "cell_type": "code",
   "execution_count": null,
   "metadata": {},
   "outputs": [],
   "source": []
  }
 ],
 "metadata": {
  "kernelspec": {
   "display_name": "Python 3",
   "language": "python",
   "name": "python3"
  },
  "language_info": {
   "codemirror_mode": {
    "name": "ipython",
    "version": 3
   },
   "file_extension": ".py",
   "mimetype": "text/x-python",
   "name": "python",
   "nbconvert_exporter": "python",
   "pygments_lexer": "ipython3",
   "version": "3.6.5"
  }
 },
 "nbformat": 4,
 "nbformat_minor": 2
}
