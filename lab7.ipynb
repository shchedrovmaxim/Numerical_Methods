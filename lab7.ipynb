{
 "cells": [
  {
   "cell_type": "code",
   "execution_count": 1,
   "metadata": {},
   "outputs": [],
   "source": [
    "import matplotlib.pyplot as plt\n",
    "import numpy as np\n"
   ]
  },
  {
   "cell_type": "code",
   "execution_count": 333,
   "metadata": {
    "scrolled": true
   },
   "outputs": [
    {
     "data": {
      "image/png": "[encoded data removed]",
      "text/plain": [
       "<Figure size 432x288 with 1 Axes>"
      ]
     },
     "metadata": {
      "needs_background": "light"
     },
     "output_type": "display_data"
    },
    {
     "data": {
      "text/plain": [
       "<matplotlib.collections.PathCollection at 0x7fb341c5b7f0>"
      ]
     },
     "execution_count": 333,
     "metadata": {},
     "output_type": "execute_result"
    },
    {
     "data": {
      "image/png": "[encoded data removed]",
      "text/plain": [
       "<Figure size 432x288 with 1 Axes>"
      ]
     },
     "metadata": {
      "needs_background": "light"
     },
     "output_type": "display_data"
    }
   ],
   "source": [
    "def f(x,y):\n",
    "    return -np.sqrt(3 + y ** 2) / (np.sqrt(1 - x ** 2) * y) \n",
    "\n",
    "def real_f(x):\n",
    "    return np.sqrt((6 - np.arcsin(x)) ** 2 - 3)\n",
    "\n",
    "def MRK4(xold, yold, h):\n",
    "    k1 = f(xold,yold)\n",
    "    k2 = f(xold + h / 2, yold + k1 * h / 2)\n",
    "    k3 = f(xold + h / 2, yold + k2 * h / 2)\n",
    "    k4 = f(xold + h, yold + h * k3)\n",
    "    return yold + (h / 6) * (k1 + 2 * k2 + 2 * k3 + k4)\n",
    "\n",
    "    \n",
    "x = 0\n",
    "y = 5.7445\n",
    "h = 0.01\n",
    "stop = x + 0.9\n",
    "x_mass = [0]\n",
    "y_MRK4 = [5.7445]\n",
    "y_real = [5.7445]\n",
    "error_mrk = []\n",
    "error_adm = []\n",
    "while x < stop:\n",
    "    y = MRK4(x, y, h)\n",
    "    x = x + h\n",
    "    y_real.append(real_f(x))\n",
    "    y_MRK4.append(y)\n",
    "    x_mass.append(x)\n",
    "    error_mrk.append(abs(y - real_f(x)))\n",
    "\n",
    "x = x_mass[3]\n",
    "y = 5.7445\n",
    "h = 0.01\n",
    "stop = x + 0.9\n",
    "y_Adam = [0,0,0,0]\n",
    "\n",
    "for i in range(0,4): y_Adam[i] = y_MRK4[i]\n",
    "\n",
    "\n",
    "iteration = 4\n",
    "\n",
    "\n",
    "while x < stop:\n",
    "    y = (y_Adam[iteration-1] \n",
    "         + (h/24)*(55*f(x,y_Adam[iteration-1])\n",
    "            - 59*f(x,y_Adam[iteration-2])\n",
    "            + 37*f(x,y_Adam[iteration-3])\n",
    "            - 9 *f(x,y_Adam[iteration-4])))\n",
    "\n",
    "    x = x + h\n",
    "    y_Adam.append(y)\n",
    "    iteration += 1\n",
    "    error_adm.append(abs(y - real_f(x)))\n",
    "\n",
    "plt.title(\"Solution\")\n",
    "plt.scatter(x_mass[:75],y_Adam[:75])\n",
    "plt.scatter(x_mass,y_real)\n",
    "plt.scatter(x_mass[:85],y_MRK4[:85])\n",
    "plt.show()\n",
    "plt.title(\"Error\")\n",
    "plt.scatter(x_mass[:90],error_adm)\n",
    "plt.scatter(x_mass[:90],error_mrk)"
   ]
  },
  {
   "cell_type": "code",
   "execution_count": 334,
   "metadata": {},
   "outputs": [],
   "source": [
    "#     y = y_Adam[iteration - 1] +    3/2 * h * f(x_mass[iteration - 1],y_Adam[iteration - 1])\n",
    "#                                  - 0.5 * h * f(x_mass[iteration - 2],y_Adam[iteration - 2])"
   ]
  },
  {
   "cell_type": "code",
   "execution_count": 335,
   "metadata": {},
   "outputs": [],
   "source": [
    "h = 0.01\n",
    "k = []\n",
    "l = []\n",
    "x_mass = [0]\n",
    "for i in range(20):\n",
    "    x = 0\n",
    "    y = 5.7445\n",
    "#     h = 0.01\n",
    "    stop = 0.9\n",
    "    \n",
    "    y_MRK4 = [5.7445]\n",
    "    y_real = [5.7445]\n",
    "    error_mrk = []\n",
    "    error_adm = []\n",
    "    while x < stop :\n",
    "        y = MRK4(x, y, h)\n",
    "        x = x + h\n",
    "        y_real.append(real_f(x))\n",
    "        y_MRK4.append(y)\n",
    "        x_mass.append(x)\n",
    "        error_mrk.append(abs(y - real_f(x)))\n",
    "\n",
    "    z = x_mass[3]\n",
    "    y = 5.7445\n",
    "#     h = 0.01\n",
    "    stop = 0.9\n",
    "    y_Adam = [0,0,0,0]\n",
    "\n",
    "    for i in range(0,4): y_Adam[i] = y_MRK4[i]\n",
    "\n",
    "\n",
    "    iteration = 4\n",
    "\n",
    "    \n",
    "    while z < stop:\n",
    "        y = (y_Adam[iteration-1] \n",
    "             + (h/24)*(55*f(x,y_Adam[iteration-1])\n",
    "                - 59*f(z,y_Adam[iteration-2])\n",
    "                + 37*f(z,y_Adam[iteration-3])\n",
    "                - 9 *f(z,y_Adam[iteration-4])))\n",
    "\n",
    "        z = z + h\n",
    "        y_Adam.append(y)\n",
    "        iteration += 1\n",
    "        error_adm.append(abs(y - real_f(x)))\n",
    "    h+=0.005\n",
    "    \n",
    "    k.append(max(error_mrk))\n",
    "    l.append(np.sqrt(sum(error_adm)**2*h))\n",
    "    \n"
   ]
  },
  {
   "cell_type": "code",
   "execution_count": null,
   "metadata": {},
   "outputs": [],
   "source": []
  },
  {
   "cell_type": "code",
   "execution_count": 336,
   "metadata": {},
   "outputs": [
    {
     "data": {
      "image/png": "[encoded data removed]",
      "text/plain": [
       "<Figure size 432x288 with 1 Axes>"
      ]
     },
     "metadata": {
      "needs_background": "light"
     },
     "output_type": "display_data"
    }
   ],
   "source": [
    "plt.plot(x_mass[:7],k[:7])\n",
    "plt.show()\n"
   ]
  },
  {
   "cell_type": "code",
   "execution_count": 337,
   "metadata": {},
   "outputs": [
    {
     "data": {
      "text/plain": [
       "[<matplotlib.lines.Line2D at 0x7fb341cdf0f0>]"
      ]
     },
     "execution_count": 337,
     "metadata": {},
     "output_type": "execute_result"
    },
    {
     "data": {
      "image/png": "[encoded data removed]",
      "text/plain": [
       "<Figure size 432x288 with 1 Axes>"
      ]
     },
     "metadata": {
      "needs_background": "light"
     },
     "output_type": "display_data"
    }
   ],
   "source": [
    "plt.plot(x_mass[:9],l[:9])"
   ]
  },
  {
   "cell_type": "code",
   "execution_count": null,
   "metadata": {},
   "outputs": [],
   "source": []
  },
  {
   "cell_type": "code",
   "execution_count": null,
   "metadata": {},
   "outputs": [],
   "source": []
  },
  {
   "cell_type": "code",
   "execution_count": null,
   "metadata": {},
   "outputs": [],
   "source": []
  },
  {
   "cell_type": "code",
   "execution_count": null,
   "metadata": {},
   "outputs": [],
   "source": []
  }
 ],
 "metadata": {
  "kernelspec": {
   "display_name": "Python 3",
   "language": "python",
   "name": "python3"
  },
  "language_info": {
   "codemirror_mode": {
    "name": "ipython",
    "version": 3
   },
   "file_extension": ".py",
   "mimetype": "text/x-python",
   "name": "python",
   "nbconvert_exporter": "python",
   "pygments_lexer": "ipython3",
   "version": "3.6.8"
  }
 },
 "nbformat": 4,
 "nbformat_minor": 2
}
