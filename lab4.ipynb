{
 "cells": [
  {
   "cell_type": "code",
   "execution_count": 38,
   "metadata": {},
   "outputs": [],
   "source": [
    "import numpy as np\n"
   ]
  },
  {
   "cell_type": "code",
   "execution_count": 39,
   "metadata": {},
   "outputs": [],
   "source": [
    "def rivn21(x,y):\n",
    "    return np.sin(x + y) + x * 0.097 - 0.173\n",
    "def rivn22(x,y):\n",
    "    return x**2 + y**2 - 1\n",
    "def jacobi11(x,y):\n",
    "    return np.cos(x + y) + 0.097\n",
    "def jacobi21(x,y):\n",
    "    return 2 * x\n",
    "def jacobi12(x,y):\n",
    "    return np.sin(x+y)\n",
    "def jacobi22(x,y):\n",
    "    return 2 * y\n",
    "def iteration(x0,y0):\n",
    "    x,y = x0,y0\n",
    "    k = 0\n",
    "    while(np.abs(np.cos(x + 0.972) - 1.108*y0 - 0.097) > 1e-12):\n",
    "        k +=1\n",
    "        x = 0.173 - np.sin(y0 - 1.807)\n",
    "        y = (np.cos(x0 + 0.972) - 0.097) / 1.108\n",
    "        x0 = x\n",
    "        print('Iteration: ',k,' ','(',x,';',y,')', sep ='' )\n",
    "        y0 = y\n",
    "        return None\n",
    "def invers(A):\n",
    "    det = A[0][0] * A[1][1] - A[1][0] * A[0][1]\n",
    "    tmp = A[0][0];\n",
    "    A[0][1] = -A[0][1] / det;\n",
    "    A[0][0] = A[1][1] / det;\n",
    "    A[1][0] = -A[1][0] / det;\n",
    "    A[1][1] = tmp/ det;\n",
    "    return A\n",
    "def newton(x0,y0):\n",
    "    x,y,i = x0,y0,0\n",
    "    a = np.zeros((2,2))\n",
    "    b = [0,0]\n",
    "    b[0] = rivn21(x, y)\n",
    "    b[1] = rivn22(x, y)\n",
    "    norm = np.sqrt(b[0] * b[0] + b[1] * b[1])\n",
    "    while(norm > 1e-12):\n",
    "        a[0][0] = jacobi11(x0, y0)\n",
    "        a[0][1] = jacobi12(x0, y0)\n",
    "        a[1][0] = jacobi21(x0, y0)\n",
    "        a[1][1] = jacobi22(x0, y0)\n",
    "        invers(a)\n",
    "        dx = -a[0][0] * rivn21(x0, y0) - a[0][1] * rivn22(x0, y0)\n",
    "        dy = -a[1][0] * rivn21(x0, y0) - a[1][1] * rivn22(x0, y0)\n",
    "        x = x0 + dx\n",
    "        y = y0 + dy\n",
    "        b[0] = rivn21(x, y)\n",
    "        b[1] = rivn22(x, y)\n",
    "        norm = np.sqrt(b[0] * b[0] + b[1] * b[1])\n",
    "        i += 1\n",
    "        print('Iteration: ',i,' ','(',x,';',y,')', sep ='' )\n",
    "        x0 = x\n",
    "        y0 = y\n",
    "        return None"
   ]
  },
  {
   "cell_type": "code",
   "execution_count": null,
   "metadata": {},
   "outputs": [],
   "source": []
  },
  {
   "cell_type": "code",
   "execution_count": null,
   "metadata": {},
   "outputs": [],
   "source": []
  }
 ],
 "metadata": {
  "kernelspec": {
   "display_name": "Python 3",
   "language": "python",
   "name": "python3"
  },
  "language_info": {
   "codemirror_mode": {
    "name": "ipython",
    "version": 3
   },
   "file_extension": ".py",
   "mimetype": "text/x-python",
   "name": "python",
   "nbconvert_exporter": "python",
   "pygments_lexer": "ipython3",
   "version": "3.6.5"
  }
 },
 "nbformat": 4,
 "nbformat_minor": 2
}
