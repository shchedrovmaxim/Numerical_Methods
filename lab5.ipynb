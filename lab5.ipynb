{
 "cells": [
  {
   "cell_type": "code",
   "execution_count": 16,
   "metadata": {},
   "outputs": [],
   "source": [
    "import numpy as np"
   ]
  },
  {
   "cell_type": "code",
   "execution_count": 40,
   "metadata": {},
   "outputs": [],
   "source": [
    "def lagranz(x, y, des,x_len):\n",
    "    z = 0\n",
    "    for j in range(x_len):\n",
    "        p1 = 1\n",
    "        p2 = 1\n",
    "        for i in range(x_len):\n",
    "            if i == j:\n",
    "                p1 = p1 * 1\n",
    "                p2 = p2 * 1\n",
    "            else:\n",
    "                p1 = p1 * (des - x[i])\n",
    "                p2 = p2 * (x[j] - x[i])\n",
    "        z = z + y[j] * p1 / p2\n",
    "    return z"
   ]
  },
  {
   "cell_type": "code",
   "execution_count": 41,
   "metadata": {},
   "outputs": [],
   "source": [
    "def newton_forward(des, x, y,x_len):\n",
    "    suma = y\n",
    "    F, den = 0,0\n",
    "    for i in range(x_len):\n",
    "        F = 0\n",
    "        for j in range(i):\n",
    "            den = 1;\n",
    "            for k in range(i):\n",
    "                if (k != j): \n",
    "                    den *= (x[j] - x[k])\n",
    "            F += y[j] / den\n",
    "        for k in range(i): \n",
    "            F *= (des - x[k])\n",
    "        suma += F;\n",
    "        \n",
    "    return suma\n"
   ]
  },
  {
   "cell_type": "code",
   "execution_count": 48,
   "metadata": {},
   "outputs": [],
   "source": [
    "def newton_backward(des, x, y,x_len):\n",
    "    suma = y[n - 1] \n",
    "    F, den = 0, 0\n",
    "    for i in range(x_len - 2, -1, -1):\n",
    "        F = 0\n",
    "        for j in range(x_len - 1, i - 1, -1):\n",
    "            den = 1\n",
    "            for k in range(x_len - 1, i - 1, -1):\n",
    "                if (k == j):\n",
    "                    den *= (x[j] - x[k])\n",
    "                F += y[j] / den\n",
    "        for k in range(x_len - 1, i, -1): \n",
    "            F *= (des - x[k])\n",
    "        suma += F\n",
    "        \n",
    "    return suma\n"
   ]
  },
  {
   "cell_type": "code",
   "execution_count": 53,
   "metadata": {},
   "outputs": [],
   "source": [
    "def cub_spline_1p(des,x ,y): \n",
    "    a, b, bn, c, d = 0,0,0,0,0\n",
    "    rez = 0\n",
    "    prev, cur, i = 0,0,0\n",
    "    while (des >= x[i]):\n",
    "        i+=1\n",
    "        prev = i-1;\n",
    "        cur = i ;\n",
    "        a = y[prev];\n",
    "        b = y[prev] + np.exp(x[prev]);\n",
    "        bn = y[cur] + np.exp(x[cur]);\n",
    "        c = (3*((y[cur] - y[prev]) / (x[cur] - x[prev]))-bn-2*b)/(x[cur]-x[prev]);\n",
    "        d = (bn + b - 2 * ((y[cur] - y[prev]) / (x[cur] - x[prev]))) / pow(x[cur] - x[prev], 2);\n",
    "        rez = a + b*(des - x[prev]) + c*(des - x[prev])** 2 + d*(des - x[prev])** 3\n",
    "    return rez;\n",
    "\n"
   ]
  },
  {
   "cell_type": "code",
   "execution_count": 54,
   "metadata": {},
   "outputs": [],
   "source": [
    "x = [0.1,0.2,0.3,0.4,0.5,0.6,0.7,0.8,0.9,1,1.1]\n",
    "y = x*np.exp(x)"
   ]
  },
  {
   "cell_type": "code",
   "execution_count": 55,
   "metadata": {},
   "outputs": [
    {
     "data": {
      "text/plain": [
       "2.1215905221723177"
      ]
     },
     "execution_count": 55,
     "metadata": {},
     "output_type": "execute_result"
    }
   ],
   "source": [
    "cub_spline_1p(0.88,x ,y)"
   ]
  },
  {
   "cell_type": "code",
   "execution_count": null,
   "metadata": {},
   "outputs": [],
   "source": []
  }
 ],
 "metadata": {
  "kernelspec": {
   "display_name": "Python 3",
   "language": "python",
   "name": "python3"
  },
  "language_info": {
   "codemirror_mode": {
    "name": "ipython",
    "version": 3
   },
   "file_extension": ".py",
   "mimetype": "text/x-python",
   "name": "python",
   "nbconvert_exporter": "python",
   "pygments_lexer": "ipython3",
   "version": "3.6.5"
  }
 },
 "nbformat": 4,
 "nbformat_minor": 2
}
